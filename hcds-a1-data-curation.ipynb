{
 "cells": [
  {
   "cell_type": "markdown",
   "metadata": {},
   "source": [
    "# HW1 Data Curation"
   ]
  },
  {
   "cell_type": "markdown",
   "metadata": {},
   "source": [
    "## Step1:  Data Acquistion"
   ]
  },
  {
   "cell_type": "markdown",
   "metadata": {},
   "source": [
    "Using  wikipedia API, The Pageviews API provides data for desktop, mobile -web, and mobile-app from July 2015- Sep 2017, and the legacy Pagecounts API provides traffic data for desktop and mobile from January 2008 to July 2016"
   ]
  },
  {
   "cell_type": "markdown",
   "metadata": {},
   "source": [
    "At first, import the package we need:"
   ]
  },
  {
   "cell_type": "code",
   "execution_count": 378,
   "metadata": {
    "collapsed": true
   },
   "outputs": [],
   "source": [
    "import json\n",
    "import requests\n",
    "import matplotlib.pyplot as plt\n",
    "import datetime\n",
    "import numpy as np\n",
    "import pandas as pd"
   ]
  },
  {
   "cell_type": "markdown",
   "metadata": {},
   "source": [
    "Next, I need get the data for desktop, mobile-web, and mobile-app on page views from 2015-07-01 to 2016-09-30. I set a endpoint and changing the parameter for different access."
   ]
  },
  {
   "cell_type": "code",
   "execution_count": 379,
   "metadata": {
    "collapsed": true
   },
   "outputs": [],
   "source": [
    "# endpoint with parameters\n",
    "endpoint = 'https://wikimedia.org/api/rest_v1/metrics/pageviews/aggregate/{project}/{access}/{agent}/{granularity}/{start}/{end}'\n",
    "headers={'User-Agent' : 'https://github.com/runlaizeng', 'From' : 'runlaiz@uw.edu'}"
   ]
  },
  {
   "cell_type": "code",
   "execution_count": 380,
   "metadata": {
    "collapsed": false
   },
   "outputs": [],
   "source": [
    "#access for desktop \n",
    "params = {'project' : 'en.wikipedia.org',\n",
    "            'access' : 'desktop',\n",
    "            'agent' : 'user',\n",
    "            'granularity' : 'monthly',\n",
    "            'start' : '2015070100',\n",
    "            'end' : '2017093000'#use the first day of the following month to ensure a full month of data is collected\n",
    "            }\n",
    "\n",
    "api_call = requests.get(endpoint.format(**params))\n",
    "response = api_call.json()\n",
    "with open('pageviews_desktop_201507-201709.json','w') as f:\n",
    "    json.dump(response,f)"
   ]
  },
  {
   "cell_type": "code",
   "execution_count": 381,
   "metadata": {
    "collapsed": true
   },
   "outputs": [],
   "source": [
    "#access for mobile-app\n",
    "params = {'project' : 'en.wikipedia.org',\n",
    "            'access' : 'mobile-app',\n",
    "            'agent' : 'user',\n",
    "            'granularity' : 'monthly',\n",
    "            'start' : '2015070100',\n",
    "            'end' : '2017093000'#use the first day of the following month to ensure a full month of data is collected\n",
    "            }\n",
    "\n",
    "api_call = requests.get(endpoint.format(**params))\n",
    "response = api_call.json()\n",
    "with open('pageviews_mobile-app_201507-201709.json','w') as f:\n",
    "    json.dump(response,f)"
   ]
  },
  {
   "cell_type": "code",
   "execution_count": 382,
   "metadata": {
    "collapsed": true
   },
   "outputs": [],
   "source": [
    "#access for mobile-web\n",
    "params = {'project' : 'en.wikipedia.org',\n",
    "            'access' : 'mobile-web',\n",
    "            'agent' : 'user',\n",
    "            'granularity' : 'monthly',\n",
    "            'start' : '2015070100',\n",
    "            'end' : '2017093000'#use the first day of the following month to ensure a full month of data is collected\n",
    "            }\n",
    "\n",
    "api_call = requests.get(endpoint.format(**params))\n",
    "response = api_call.json()\n",
    "with open('pageviews_mobile-web_201507-201709.json','w') as f:\n",
    "    json.dump(response,f)"
   ]
  },
  {
   "cell_type": "markdown",
   "metadata": {},
   "source": [
    "Now, we change the end point for pagecounts to get desktop and mobile views from 2008-01-01 to 2016-07-30"
   ]
  },
  {
   "cell_type": "code",
   "execution_count": 384,
   "metadata": {
    "collapsed": true
   },
   "outputs": [],
   "source": [
    "#change endpoint for pagecounts with parameters\n",
    "endpoint = 'https://wikimedia.org/api/rest_v1/metrics/legacy/pagecounts/aggregate/{project}/{access-site}/{granularity}/{start}/{end}'"
   ]
  },
  {
   "cell_type": "code",
   "execution_count": 385,
   "metadata": {
    "collapsed": false
   },
   "outputs": [],
   "source": [
    "#get data for desktop\n",
    "params = {'project' : 'en.wikipedia',\n",
    "            'access-site' : 'desktop-site',\n",
    "            'granularity' : 'monthly',\n",
    "            'start' : '2008010100',\n",
    "            'end' : '2016073000'#use the first day of the following month to ensure a full month of data is collected\n",
    "            }\n",
    "\n",
    "api_call = requests.get(endpoint.format(**params))\n",
    "response = api_call.json()\n",
    "with open('pagecounts_desktop-site_200801-201607.json','w') as f:\n",
    "    json.dump(response,f)"
   ]
  },
  {
   "cell_type": "code",
   "execution_count": 386,
   "metadata": {
    "collapsed": false
   },
   "outputs": [],
   "source": [
    "# get data for mobile \n",
    "params = {'project' : 'en.wikipedia.org',\n",
    "            'access-site' : 'mobile-site',\n",
    "            'granularity' : 'monthly',\n",
    "            'start' : '2008010100',\n",
    "            'end' : '2016073000'#use the first day of the following month to ensure a full month of data is collected\n",
    "            }\n",
    "\n",
    "api_call = requests.get(endpoint.format(**params))\n",
    "response = api_call.json()\n",
    "with open('pagecounts_mobile-site_200801-201607.json','w') as f:\n",
    "    json.dump(response,f)"
   ]
  },
  {
   "cell_type": "markdown",
   "metadata": {},
   "source": [
    "## Step 2: Data Processing"
   ]
  },
  {
   "cell_type": "markdown",
   "metadata": {},
   "source": [
    "We need to do somt proccessing on these json file data inorder to analysis. I conbine monthly mobile-app and monthly mobile-web to total mobile for pageviews."
   ]
  },
  {
   "cell_type": "markdown",
   "metadata": {},
   "source": [
    "First, read the json file sepreatedly"
   ]
  },
  {
   "cell_type": "code",
   "execution_count": 387,
   "metadata": {
    "collapsed": false
   },
   "outputs": [],
   "source": [
    "#read json files\n",
    "with open('pageviews_desktop_201507-201709.json','r') as f:\n",
    "    data_1 = json.load(f)\n",
    "with open('pageviews_mobile-app_201507-201709.json','r') as f:\n",
    "    data_2 = json.load(f)\n",
    "with open('pageviews_mobile-web_201507-201709.json','r') as f:\n",
    "    data_3= json.load(f)\n",
    "with open('pagecounts_desktop-site_200801-201607.json','r') as f:\n",
    "    data_4 = json.load(f)\n",
    "with open('pagecounts_mobile-site_200801-201607.json','r') as f:\n",
    "    data_5 = json.load(f)\n",
    "    "
   ]
  },
  {
   "cell_type": "code",
   "execution_count": 388,
   "metadata": {
    "collapsed": false
   },
   "outputs": [],
   "source": [
    "#load json in datapfram\n",
    "df_1 = pd.DataFrame(data_1['items'])\n",
    "df_2 = pd.DataFrame(data_2['items'])\n",
    "df_3 = pd.DataFrame(data_3['items'])\n",
    "df_4 = pd.DataFrame(data_4['items'])\n",
    "df_5 = pd.DataFrame(data_5['items'])"
   ]
  },
  {
   "cell_type": "markdown",
   "metadata": {},
   "source": [
    "### (1) pageview_mobile_views"
   ]
  },
  {
   "cell_type": "code",
   "execution_count": 390,
   "metadata": {
    "collapsed": false,
    "scrolled": true
   },
   "outputs": [
    {
     "data": {
      "text/html": [
       "<div>\n",
       "<table border=\"1\" class=\"dataframe\">\n",
       "  <thead>\n",
       "    <tr style=\"text-align: right;\">\n",
       "      <th></th>\n",
       "      <th>Date</th>\n",
       "      <th>pageview_mobile_views</th>\n",
       "    </tr>\n",
       "  </thead>\n",
       "  <tbody>\n",
       "    <tr>\n",
       "      <th>0</th>\n",
       "      <td>2015070100</td>\n",
       "      <td>3288755294</td>\n",
       "    </tr>\n",
       "    <tr>\n",
       "      <th>1</th>\n",
       "      <td>2015080100</td>\n",
       "      <td>3302333038</td>\n",
       "    </tr>\n",
       "    <tr>\n",
       "      <th>2</th>\n",
       "      <td>2015090100</td>\n",
       "      <td>3170203333</td>\n",
       "    </tr>\n",
       "    <tr>\n",
       "      <th>3</th>\n",
       "      <td>2015100100</td>\n",
       "      <td>3268499132</td>\n",
       "    </tr>\n",
       "    <tr>\n",
       "      <th>4</th>\n",
       "      <td>2015110100</td>\n",
       "      <td>3236601070</td>\n",
       "    </tr>\n",
       "  </tbody>\n",
       "</table>\n",
       "</div>"
      ],
      "text/plain": [
       "         Date  pageview_mobile_views\n",
       "0  2015070100             3288755294\n",
       "1  2015080100             3302333038\n",
       "2  2015090100             3170203333\n",
       "3  2015100100             3268499132\n",
       "4  2015110100             3236601070"
      ]
     },
     "execution_count": 390,
     "metadata": {},
     "output_type": "execute_result"
    }
   ],
   "source": [
    "#combine web and app views and create pageview_mobile_views df\n",
    "pageview_mobile_views = pd.concat([df_2['timestamp'],df_2['views']+df_3['views']], axis=1, join='inner')\n",
    "pageview_mobile_views.columns = [\"Date\", \"pageview_mobile_views\"]\n",
    "pageview_mobile_views[:5]"
   ]
  },
  {
   "cell_type": "markdown",
   "metadata": {},
   "source": [
    "### (2) pageview_desktop_views"
   ]
  },
  {
   "cell_type": "code",
   "execution_count": 391,
   "metadata": {
    "collapsed": false
   },
   "outputs": [
    {
     "data": {
      "text/html": [
       "<div>\n",
       "<table border=\"1\" class=\"dataframe\">\n",
       "  <thead>\n",
       "    <tr style=\"text-align: right;\">\n",
       "      <th></th>\n",
       "      <th>Date</th>\n",
       "      <th>pageview_desktop_views</th>\n",
       "    </tr>\n",
       "  </thead>\n",
       "  <tbody>\n",
       "    <tr>\n",
       "      <th>0</th>\n",
       "      <td>2015070100</td>\n",
       "      <td>4376666686</td>\n",
       "    </tr>\n",
       "    <tr>\n",
       "      <th>1</th>\n",
       "      <td>2015080100</td>\n",
       "      <td>4332482183</td>\n",
       "    </tr>\n",
       "    <tr>\n",
       "      <th>2</th>\n",
       "      <td>2015090100</td>\n",
       "      <td>4485491704</td>\n",
       "    </tr>\n",
       "    <tr>\n",
       "      <th>3</th>\n",
       "      <td>2015100100</td>\n",
       "      <td>4477532755</td>\n",
       "    </tr>\n",
       "    <tr>\n",
       "      <th>4</th>\n",
       "      <td>2015110100</td>\n",
       "      <td>4287720220</td>\n",
       "    </tr>\n",
       "  </tbody>\n",
       "</table>\n",
       "</div>"
      ],
      "text/plain": [
       "         Date  pageview_desktop_views\n",
       "0  2015070100              4376666686\n",
       "1  2015080100              4332482183\n",
       "2  2015090100              4485491704\n",
       "3  2015100100              4477532755\n",
       "4  2015110100              4287720220"
      ]
     },
     "execution_count": 391,
     "metadata": {},
     "output_type": "execute_result"
    }
   ],
   "source": [
    "# create pageview_mobile_views df\n",
    "pageview_desktop_views = pd.concat([df_1['timestamp'],df_1['views']], axis=1, join='inner')\n",
    "pageview_desktop_views.columns = [\"Date\",\"pageview_desktop_views\"]\n",
    "pageview_desktop_views[:5]"
   ]
  },
  {
   "cell_type": "markdown",
   "metadata": {},
   "source": [
    "### (3) pageview_all_views"
   ]
  },
  {
   "cell_type": "code",
   "execution_count": 392,
   "metadata": {
    "collapsed": false
   },
   "outputs": [
    {
     "data": {
      "text/html": [
       "<div>\n",
       "<table border=\"1\" class=\"dataframe\">\n",
       "  <thead>\n",
       "    <tr style=\"text-align: right;\">\n",
       "      <th></th>\n",
       "      <th>Date</th>\n",
       "      <th>pageview_all_views</th>\n",
       "    </tr>\n",
       "  </thead>\n",
       "  <tbody>\n",
       "    <tr>\n",
       "      <th>0</th>\n",
       "      <td>2015070100</td>\n",
       "      <td>7665421980</td>\n",
       "    </tr>\n",
       "    <tr>\n",
       "      <th>1</th>\n",
       "      <td>2015080100</td>\n",
       "      <td>7634815221</td>\n",
       "    </tr>\n",
       "    <tr>\n",
       "      <th>2</th>\n",
       "      <td>2015090100</td>\n",
       "      <td>7655695037</td>\n",
       "    </tr>\n",
       "    <tr>\n",
       "      <th>3</th>\n",
       "      <td>2015100100</td>\n",
       "      <td>7746031887</td>\n",
       "    </tr>\n",
       "    <tr>\n",
       "      <th>4</th>\n",
       "      <td>2015110100</td>\n",
       "      <td>7524321290</td>\n",
       "    </tr>\n",
       "  </tbody>\n",
       "</table>\n",
       "</div>"
      ],
      "text/plain": [
       "         Date  pageview_all_views\n",
       "0  2015070100          7665421980\n",
       "1  2015080100          7634815221\n",
       "2  2015090100          7655695037\n",
       "3  2015100100          7746031887\n",
       "4  2015110100          7524321290"
      ]
     },
     "execution_count": 392,
     "metadata": {},
     "output_type": "execute_result"
    }
   ],
   "source": [
    "#combine to total view and create df\n",
    "pageview_all_views = pd.concat([df_1['timestamp'],pageview_mobile_views['pageview_mobile_views']+pageview_desktop_views['pageview_desktop_views']], axis=1, join='inner')\n",
    "pageview_all_views.columns = [\"Date\", \"pageview_all_views\"]\n",
    "pageview_all_views[:5]"
   ]
  },
  {
   "cell_type": "markdown",
   "metadata": {},
   "source": [
    "### (4) pagecount_desktop_views"
   ]
  },
  {
   "cell_type": "code",
   "execution_count": 393,
   "metadata": {
    "collapsed": false
   },
   "outputs": [
    {
     "data": {
      "text/html": [
       "<div>\n",
       "<table border=\"1\" class=\"dataframe\">\n",
       "  <thead>\n",
       "    <tr style=\"text-align: right;\">\n",
       "      <th></th>\n",
       "      <th>Date</th>\n",
       "      <th>pagecount_desktop_views</th>\n",
       "    </tr>\n",
       "  </thead>\n",
       "  <tbody>\n",
       "    <tr>\n",
       "      <th>0</th>\n",
       "      <td>2008010100</td>\n",
       "      <td>4930902570</td>\n",
       "    </tr>\n",
       "    <tr>\n",
       "      <th>1</th>\n",
       "      <td>2008020100</td>\n",
       "      <td>4818393763</td>\n",
       "    </tr>\n",
       "    <tr>\n",
       "      <th>2</th>\n",
       "      <td>2008030100</td>\n",
       "      <td>4955405809</td>\n",
       "    </tr>\n",
       "    <tr>\n",
       "      <th>3</th>\n",
       "      <td>2008040100</td>\n",
       "      <td>5159162183</td>\n",
       "    </tr>\n",
       "    <tr>\n",
       "      <th>4</th>\n",
       "      <td>2008050100</td>\n",
       "      <td>5584691092</td>\n",
       "    </tr>\n",
       "  </tbody>\n",
       "</table>\n",
       "</div>"
      ],
      "text/plain": [
       "         Date  pagecount_desktop_views\n",
       "0  2008010100               4930902570\n",
       "1  2008020100               4818393763\n",
       "2  2008030100               4955405809\n",
       "3  2008040100               5159162183\n",
       "4  2008050100               5584691092"
      ]
     },
     "execution_count": 393,
     "metadata": {},
     "output_type": "execute_result"
    }
   ],
   "source": [
    "#create df for pagecount_desktop\n",
    "pagecount_desktop_views = pd.concat([df_4['timestamp'],df_4['count']], axis=1, join='inner')\n",
    "pagecount_desktop_views.columns = [\"Date\",\"pagecount_desktop_views\"]\n",
    "pagecount_desktop_views[:5]"
   ]
  },
  {
   "cell_type": "markdown",
   "metadata": {},
   "source": [
    "### (5) pagecount_mobile_views"
   ]
  },
  {
   "cell_type": "code",
   "execution_count": 394,
   "metadata": {
    "collapsed": false
   },
   "outputs": [
    {
     "data": {
      "text/html": [
       "<div>\n",
       "<table border=\"1\" class=\"dataframe\">\n",
       "  <thead>\n",
       "    <tr style=\"text-align: right;\">\n",
       "      <th></th>\n",
       "      <th>Date</th>\n",
       "      <th>pagecount_mobile_views</th>\n",
       "    </tr>\n",
       "  </thead>\n",
       "  <tbody>\n",
       "    <tr>\n",
       "      <th>0</th>\n",
       "      <td>2014100100</td>\n",
       "      <td>3091546685</td>\n",
       "    </tr>\n",
       "    <tr>\n",
       "      <th>1</th>\n",
       "      <td>2014110100</td>\n",
       "      <td>3027489668</td>\n",
       "    </tr>\n",
       "    <tr>\n",
       "      <th>2</th>\n",
       "      <td>2014120100</td>\n",
       "      <td>3278950021</td>\n",
       "    </tr>\n",
       "    <tr>\n",
       "      <th>3</th>\n",
       "      <td>2015010100</td>\n",
       "      <td>3485302091</td>\n",
       "    </tr>\n",
       "    <tr>\n",
       "      <th>4</th>\n",
       "      <td>2015020100</td>\n",
       "      <td>3091534479</td>\n",
       "    </tr>\n",
       "  </tbody>\n",
       "</table>\n",
       "</div>"
      ],
      "text/plain": [
       "         Date  pagecount_mobile_views\n",
       "0  2014100100              3091546685\n",
       "1  2014110100              3027489668\n",
       "2  2014120100              3278950021\n",
       "3  2015010100              3485302091\n",
       "4  2015020100              3091534479"
      ]
     },
     "execution_count": 394,
     "metadata": {},
     "output_type": "execute_result"
    }
   ],
   "source": [
    "#Create df for pagecount_mobile_views\n",
    "pagecount_mobile_views = pd.concat([df_5['timestamp'],df_5['count']], axis=1, join='inner')\n",
    "pagecount_mobile_views.columns = [\"Date\",\"pagecount_mobile_views\"]\n",
    "pagecount_mobile_views[:5]"
   ]
  },
  {
   "cell_type": "markdown",
   "metadata": {},
   "source": [
    "### （6）pagecount_all_views"
   ]
  },
  {
   "cell_type": "code",
   "execution_count": 395,
   "metadata": {
    "collapsed": false,
    "scrolled": true
   },
   "outputs": [
    {
     "data": {
      "text/html": [
       "<div>\n",
       "<table border=\"1\" class=\"dataframe\">\n",
       "  <thead>\n",
       "    <tr style=\"text-align: right;\">\n",
       "      <th></th>\n",
       "      <th>Date</th>\n",
       "      <th>pagecount_all_views</th>\n",
       "    </tr>\n",
       "  </thead>\n",
       "  <tbody>\n",
       "    <tr>\n",
       "      <th>0</th>\n",
       "      <td>2008010100</td>\n",
       "      <td>4.930903e+09</td>\n",
       "    </tr>\n",
       "    <tr>\n",
       "      <th>1</th>\n",
       "      <td>2008020100</td>\n",
       "      <td>4.818394e+09</td>\n",
       "    </tr>\n",
       "    <tr>\n",
       "      <th>2</th>\n",
       "      <td>2008030100</td>\n",
       "      <td>4.955406e+09</td>\n",
       "    </tr>\n",
       "    <tr>\n",
       "      <th>3</th>\n",
       "      <td>2008040100</td>\n",
       "      <td>5.159162e+09</td>\n",
       "    </tr>\n",
       "    <tr>\n",
       "      <th>4</th>\n",
       "      <td>2008050100</td>\n",
       "      <td>5.584691e+09</td>\n",
       "    </tr>\n",
       "  </tbody>\n",
       "</table>\n",
       "</div>"
      ],
      "text/plain": [
       "         Date  pagecount_all_views\n",
       "0  2008010100         4.930903e+09\n",
       "1  2008020100         4.818394e+09\n",
       "2  2008030100         4.955406e+09\n",
       "3  2008040100         5.159162e+09\n",
       "4  2008050100         5.584691e+09"
      ]
     },
     "execution_count": 395,
     "metadata": {},
     "output_type": "execute_result"
    }
   ],
   "source": [
    "#left join desktop df and mobile df\n",
    "df_merge=df_4.merge(df_5, how='left', on='timestamp')\n",
    "df_merge['count_y'].fillna(0,inplace=True)\n",
    "#adding views togather and create df for pagecount_all_views\n",
    "pagecount_all_views = pd.concat([df_merge['timestamp'],df_merge['count_x']+df_merge['count_y']], axis=1, join='inner')\n",
    "pagecount_all_views.columns = ['Date','pagecount_all_views']\n",
    "pagecount_all_views[:5]"
   ]
  },
  {
   "cell_type": "markdown",
   "metadata": {},
   "source": [
    "### （7）mege dataframes"
   ]
  },
  {
   "cell_type": "code",
   "execution_count": 396,
   "metadata": {
    "collapsed": false
   },
   "outputs": [],
   "source": [
    "#split date to year and month as requirment\n",
    "result = pagecount_all_views.merge(pagecount_desktop_views,how='left', on='Date').merge(pagecount_mobile_views,how='left', on='Date').merge(pageview_all_views,how='outer', on='Date').merge(pageview_desktop_views,how='left', on='Date').merge(pageview_mobile_views,how='left', on='Date')\n",
    "result.fillna(0,inplace=True)\n",
    "year = result['Date'].str[0:4]\n",
    "month = result['Date'].str[4:6]\n",
    "result.insert(loc=0,column='year',value=year)\n",
    "result.insert(loc=1,column='month',value=month)\n",
    "del result['Date']"
   ]
  },
  {
   "cell_type": "code",
   "execution_count": 397,
   "metadata": {
    "collapsed": false,
    "scrolled": true
   },
   "outputs": [
    {
     "data": {
      "text/html": [
       "<div>\n",
       "<table border=\"1\" class=\"dataframe\">\n",
       "  <thead>\n",
       "    <tr style=\"text-align: right;\">\n",
       "      <th></th>\n",
       "      <th>year</th>\n",
       "      <th>month</th>\n",
       "      <th>pagecount_all_views</th>\n",
       "      <th>pagecount_desktop_views</th>\n",
       "      <th>pagecount_mobile_views</th>\n",
       "      <th>pageview_all_views</th>\n",
       "      <th>pageview_desktop_views</th>\n",
       "      <th>pageview_mobile_views</th>\n",
       "    </tr>\n",
       "  </thead>\n",
       "  <tbody>\n",
       "    <tr>\n",
       "      <th>0</th>\n",
       "      <td>2008</td>\n",
       "      <td>01</td>\n",
       "      <td>4930902570</td>\n",
       "      <td>4930902570</td>\n",
       "      <td>0</td>\n",
       "      <td>0</td>\n",
       "      <td>0</td>\n",
       "      <td>0</td>\n",
       "    </tr>\n",
       "    <tr>\n",
       "      <th>1</th>\n",
       "      <td>2008</td>\n",
       "      <td>02</td>\n",
       "      <td>4818393763</td>\n",
       "      <td>4818393763</td>\n",
       "      <td>0</td>\n",
       "      <td>0</td>\n",
       "      <td>0</td>\n",
       "      <td>0</td>\n",
       "    </tr>\n",
       "    <tr>\n",
       "      <th>2</th>\n",
       "      <td>2008</td>\n",
       "      <td>03</td>\n",
       "      <td>4955405809</td>\n",
       "      <td>4955405809</td>\n",
       "      <td>0</td>\n",
       "      <td>0</td>\n",
       "      <td>0</td>\n",
       "      <td>0</td>\n",
       "    </tr>\n",
       "    <tr>\n",
       "      <th>3</th>\n",
       "      <td>2008</td>\n",
       "      <td>04</td>\n",
       "      <td>5159162183</td>\n",
       "      <td>5159162183</td>\n",
       "      <td>0</td>\n",
       "      <td>0</td>\n",
       "      <td>0</td>\n",
       "      <td>0</td>\n",
       "    </tr>\n",
       "    <tr>\n",
       "      <th>4</th>\n",
       "      <td>2008</td>\n",
       "      <td>05</td>\n",
       "      <td>5584691092</td>\n",
       "      <td>5584691092</td>\n",
       "      <td>0</td>\n",
       "      <td>0</td>\n",
       "      <td>0</td>\n",
       "      <td>0</td>\n",
       "    </tr>\n",
       "  </tbody>\n",
       "</table>\n",
       "</div>"
      ],
      "text/plain": [
       "   year month  pagecount_all_views  pagecount_desktop_views  \\\n",
       "0  2008    01           4930902570               4930902570   \n",
       "1  2008    02           4818393763               4818393763   \n",
       "2  2008    03           4955405809               4955405809   \n",
       "3  2008    04           5159162183               5159162183   \n",
       "4  2008    05           5584691092               5584691092   \n",
       "\n",
       "   pagecount_mobile_views  pageview_all_views  pageview_desktop_views  \\\n",
       "0                       0                   0                       0   \n",
       "1                       0                   0                       0   \n",
       "2                       0                   0                       0   \n",
       "3                       0                   0                       0   \n",
       "4                       0                   0                       0   \n",
       "\n",
       "   pageview_mobile_views  \n",
       "0                      0  \n",
       "1                      0  \n",
       "2                      0  \n",
       "3                      0  \n",
       "4                      0  "
      ]
     },
     "execution_count": 397,
     "metadata": {},
     "output_type": "execute_result"
    }
   ],
   "source": [
    "#convert views to integer\n",
    "result.pagecount_all_views = result.pagecount_all_views.astype(int)\n",
    "result.pagecount_desktop_views= result.pagecount_desktop_views.astype(int)\n",
    "result.pagecount_mobile_views = result.pagecount_mobile_views.astype(int)\n",
    "result.pageview_all_views = result.pageview_all_views.astype(int)\n",
    "result.pageview_mobile_views = result.pageview_mobile_views.astype(int)\n",
    "result.pageview_desktop_views = result.pageview_desktop_views.astype(int)\n",
    "result[:5]"
   ]
  },
  {
   "cell_type": "markdown",
   "metadata": {},
   "source": [
    "### (8) output"
   ]
  },
  {
   "cell_type": "code",
   "execution_count": 398,
   "metadata": {
    "collapsed": false
   },
   "outputs": [],
   "source": [
    "#save it as csv file \n",
    "result.to_csv('en-wikipedia_traffic_200801-201709.csv', sep=',')\n"
   ]
  },
  {
   "cell_type": "markdown",
   "metadata": {},
   "source": [
    "## Step3 : Analysis"
   ]
  },
  {
   "cell_type": "markdown",
   "metadata": {},
   "source": [
    "In order to analyze pageviews on English Wikipedia, I made a graph to show the desktop, mobile and total views."
   ]
  },
  {
   "cell_type": "code",
   "execution_count": 399,
   "metadata": {
    "collapsed": false
   },
   "outputs": [
    {
     "data": {
      "image/png": "[encoded data removed]",
      "text/plain": [
       "<matplotlib.figure.Figure at 0x115e2cf28>"
      ]
     },
     "metadata": {},
     "output_type": "display_data"
    }
   ],
   "source": [
    "result = result.replace(0,np.nan)\n",
    "fig, ax = plt.subplots()\n",
    "\n",
    "date = pd.to_datetime(result.year + result.month, format = '%Y%m')\n",
    "ax.plot(date, result['pagecount_mobile_views'], color = 'blue', linestyle = '--', alpha=0.7)\n",
    "ax.plot(date, result['pagecount_desktop_views'], color = 'red', linestyle = '--', alpha=0.7)\n",
    "ax.plot(date, result['pagecount_all_views'], color = 'green', linestyle = '--', alpha=0.7)\n",
    "ax.plot(date, result['pageview_all_views'], color = 'green', alpha=0.7)\n",
    "ax.plot(date, result['pageview_mobile_views'], color = 'blue', alpha=0.7)\n",
    "ax.plot(date, result['pageview_desktop_views'], color = 'red', alpha=0.7)\n",
    "\n",
    "fig.set_size_inches(13, 8)\n",
    "plt.legend(bbox_to_anchor=(1.05, 1), loc=2, prop={'size': 20}, borderaxespad=0.)\n",
    "fig.suptitle('Views on English Wikipedia', fontsize=30)\n",
    "\n",
    "ax.set_xlabel('Year')\n",
    "ax.set_ylabel('Views')\n",
    "plt.show()"
   ]
  },
  {
   "cell_type": "markdown",
   "metadata": {},
   "source": [
    "Conclusion: from the visualization above, we could say that desktop views are hihger than mobile views forom the comparsion. Also, there are two peak points for all views, the first occured on oct 2010, and the second occured on oct 2013. "
   ]
  }
 ],
 "metadata": {
  "kernelspec": {
   "display_name": "Python 3",
   "language": "python",
   "name": "python3"
  },
  "language_info": {
   "codemirror_mode": {
    "name": "ipython",
    "version": 3
   },
   "file_extension": ".py",
   "mimetype": "text/x-python",
   "name": "python",
   "nbconvert_exporter": "python",
   "pygments_lexer": "ipython3",
   "version": "3.6.0"
  }
 },
 "nbformat": 4,
 "nbformat_minor": 2
}
